{
 "cells": [
  {
   "cell_type": "code",
   "execution_count": 9,
   "metadata": {},
   "outputs": [],
   "source": [
    "import zipfile\n",
    "import shutil\n",
    "import os\n",
    "\n",
    "# Function to recreate DOCX file\n",
    "def recreate_docx(source_folder, output_filename):\n",
    "    # Create a new ZIP file\n",
    "    with zipfile.ZipFile(output_filename, 'w') as new_zip:\n",
    "        # Iterate through the source folder\n",
    "        for root, dirs, files in os.walk(source_folder):\n",
    "            for file in files:\n",
    "                # Write each file to the new ZIP file\n",
    "                file_path = os.path.join(root, file)\n",
    "                arcname = os.path.relpath(file_path, source_folder)\n",
    "                new_zip.write(file_path, arcname=arcname)\n",
    "\n",
    "# Example usage\n",
    "source_folder = 'Lesson_plan(Template 1)'  # Replace '<name>' with the actual name of your extracted folder\n",
    "output_filename = 'Lesson_plan_Template_1.docx'\n",
    "recreate_docx(source_folder, output_filename)"
   ]
  },
  {
   "cell_type": "code",
   "execution_count": null,
   "metadata": {},
   "outputs": [],
   "source": []
  }
 ],
 "metadata": {
  "kernelspec": {
   "display_name": "base",
   "language": "python",
   "name": "python3"
  },
  "language_info": {
   "codemirror_mode": {
    "name": "ipython",
    "version": 3
   },
   "file_extension": ".py",
   "mimetype": "text/x-python",
   "name": "python",
   "nbconvert_exporter": "python",
   "pygments_lexer": "ipython3",
   "version": "3.11.5"
  }
 },
 "nbformat": 4,
 "nbformat_minor": 2
}
